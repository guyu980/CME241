{
 "cells": [
  {
   "cell_type": "markdown",
   "metadata": {},
   "source": [
    "#### Prove the Epsilon-Greedy Policy Improvement Theorem (we sketched the proof in Class)\n",
    "\n",
    "$$\\begin{split}\n",
    "v_\\pi^{'}(s) & = & \\sum_{a \\in \\mathcal A} \\pi^{'}(a\\mid s)q_\\pi(s,a) \\\\\n",
    "& = & \\epsilon/m \\sum_{a \\in \\mathcal A} q_\\pi(s,a) + (1-\\epsilon) \\max_{a \\in \\mathcal A}q_\\pi(s,a) \\\\\n",
    "& \\geq & \\epsilon/m \\sum_{a \\in \\mathcal A} q_\\pi(s,a) + (1-\\epsilon) \\sum_{a \\in \\mathcal A} \\frac {\\pi(a\\mid s) - \\epsilon/m}{1-\\epsilon}q_\\pi(s,a)\\\\\n",
    "& = & \\sum_{a \\in \\mathcal A} \\pi(a\\mid s)q_\\pi(s,a)\\\\\n",
    "& = & v_\\pi(s)\\\\\n",
    "\\end{split}$$"
   ]
  },
  {
   "cell_type": "markdown",
   "metadata": {},
   "source": [
    "#### Provide (with clear mathematical notation) the defintion of GLIE (Greedy in the Limit with Infinite Exploration)\n",
    "\n",
    "1. All state-action pairs are explored infinitely many times,\n",
    "$$\\lim_{k \\rightarrow \\infty} N_k(s,a)=\\infty$$\n",
    "\n",
    "2. The policy converges on a greedy policy,\n",
    "$$\\lim_{k \\rightarrow \\infty} \\pi_k(a \\mid s)=\\mathbb 1(a=\\mathop{\\arg \\max}_{a^{'}\\in \\mathcal A}Q_k(s,a^{'})$$"
   ]
  }
 ],
 "metadata": {
  "kernelspec": {
   "display_name": "Python 3",
   "language": "python",
   "name": "python3"
  },
  "language_info": {
   "codemirror_mode": {
    "name": "ipython",
    "version": 3
   },
   "file_extension": ".py",
   "mimetype": "text/x-python",
   "name": "python",
   "nbconvert_exporter": "python",
   "pygments_lexer": "ipython3",
   "version": "3.7.1"
  }
 },
 "nbformat": 4,
 "nbformat_minor": 2
}
