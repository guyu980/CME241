{
 "cells": [
  {
   "cell_type": "markdown",
   "metadata": {},
   "source": [
    "## 1. Basic Terminology\n",
    "* Utility function is concanve: $E[U(x)]<U(E[x])$\n",
    "* Certainty-Equivalent Value: $x_{CE}=U^{-1}(E[U(x)])$\n",
    "* Absolute Risk-Premium: $\\pi_A=E[x]-x_{CE}$\n",
    "* Relative Risk-Premium: $\\pi_R=\\frac{\\pi_A}{E(x)}=1-\\frac{x_{CE}}{E[x]}$\n",
    "\n",
    "## 2. Risk-Aversion\n",
    "* $\\pi_A \\approx - \\frac{1}{2}\\frac{U''(\\bar x)}{U'(\\bar x)} \\sigma_x^2$, $\\bar x=E[x]$\n",
    "* Absolute Risk-Aversion: $A(x)=-\\frac{U''(x)}{U'(x)}$, $\\pi_A \\approx \\frac{1}{2}A(\\bar x)\\sigma_x^2$\n",
    "* $\\pi_R=\\frac{\\pi_A}{\\bar x}\\approx -\\frac{1}{2}\\frac{U''(\\bar x)\\bar x}{U'(\\bar x)}\\sigma_{\\tfrac{x}{\\bar x}}^2$\n",
    "* Relative Risk-Aversion: $R(x)=-\\frac{U''(x)x}{U'(x)}$, $\\pi_R\\approx \\frac{1}{2}R(\\bar x)\\sigma_{\\tfrac{x}{\\bar x}}^2$\n",
    "\n",
    "## 3. Typical Utility Functions\n",
    "#### 3.1 Constant Absolute Risk-Aversion (CARA)\n",
    "$$U(x)=\\frac{-e^{-ax}}{a}, a \\ne 0$$\n",
    "* The absolute risk-aversion is: $A(x)=a$.\n",
    "* Assume $x\\sim\\mathcal N(\\mu,\\sigma^2)$, we have:  \n",
    "$$E[U(x)]=\\left\\{\n",
    "\\begin{array}{lcl}\n",
    "\\frac{-e^{-a\\mu+\\frac{a^2\\sigma^2}{2}}}{a} & & {a\\ne0}\\\\\n",
    "\\mu & & {a=0}\\\\\n",
    "\\end{array} \\right.\n",
    "$$\n",
    "* Then $x_{CE}=\\mu-\\frac{a\\sigma^2}{2}$, absolute risk-premium is $\\pi_A=\\frac{a\\sigma^2}{2}$.\n",
    "\n",
    "#### 3.2 Constant Relative Risk-Aversion (CRRA)\n",
    "$$U(x)=\\frac{x^{1-\\gamma}}{1-\\gamma}, \\gamma \\ne 1$$\n",
    "* The relative risk-aversion is: $R(x)=\\gamma$.\n",
    "* Assume the random outcome is lognormal, with $\\log(x)\\sim\\mathcal N(\\mu,\\sigma^2)$, we have:\n",
    "$$E[U(x)]=\\left\\{\n",
    "\\begin{array}{lcl}\n",
    "\\frac{e^{\\mu(1-\\gamma)+\\frac{\\sigma^2}{2}(1-\\gamma)^2}}{1-\\gamma} & & {\\gamma\\ne1}\\\\\n",
    "\\mu & & {\\gamma=0}\\\\\n",
    "\\end{array} \\right.\n",
    "$$\n",
    "* Then $x_{CE}=e^{\\mu+\\frac{\\sigma^2}{2}(1-\\gamma)}$, relative riks-premium is $\\pi_R=1-\\frac{x_{CE}}{\\bar x}=1-e^{-\\frac{\\sigma^2\\gamma}{2}}$."
   ]
  }
 ],
 "metadata": {
  "kernelspec": {
   "display_name": "Python 3",
   "language": "python",
   "name": "python3"
  },
  "language_info": {
   "codemirror_mode": {
    "name": "ipython",
    "version": 3
   },
   "file_extension": ".py",
   "mimetype": "text/x-python",
   "name": "python",
   "nbconvert_exporter": "python",
   "pygments_lexer": "ipython3",
   "version": "3.7.0"
  }
 },
 "nbformat": 4,
 "nbformat_minor": 2
}
