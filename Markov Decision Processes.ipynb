{
 "cells": [
  {
   "cell_type": "markdown",
   "metadata": {},
   "source": [
    "Use a simple markov chain example, where there are 5 states. Then randomly generate a state transition matrix as follow:"
   ]
  },
  {
   "cell_type": "code",
   "execution_count": 3,
   "metadata": {},
   "outputs": [
    {
     "name": "stdout",
     "output_type": "stream",
     "text": [
      "[[0.38464318 0.01382855 0.29139927 0.30449779 0.00563121]\n",
      " [0.37090157 0.02826488 0.45173738 0.14709295 0.00200322]\n",
      " [0.20409562 0.13613493 0.20548226 0.0457985  0.40848869]\n",
      " [0.09615631 0.01823023 0.27156828 0.152546   0.46149917]\n",
      " [0.24954846 0.27734102 0.13200627 0.07724593 0.26385832]]\n"
     ]
    }
   ],
   "source": [
    "import numpy as np\n",
    "\n",
    "n_state = 5\n",
    "state_transition = np.zeros((n_state, n_state))\n",
    "\n",
    "for i in range(n_state):\n",
    "    state_transition[i] = np.random.rand(n_state)\n",
    "    state_transition[i] /= state_transition[i].sum()\n",
    "\n",
    "print(state_transition)"
   ]
  },
  {
   "cell_type": "markdown",
   "metadata": {},
   "source": [
    "Consider the r(s, s') definition of MRP, generate a reword matrix which has the same rows and columns as state transition matrix:"
   ]
  },
  {
   "cell_type": "code",
   "execution_count": 6,
   "metadata": {},
   "outputs": [
    {
     "name": "stdout",
     "output_type": "stream",
     "text": [
      "[[-1. -3.  5.  4.  0.]\n",
      " [-1.  5.  6. -3.  6.]\n",
      " [ 3.  6.  5.  3.  5.]\n",
      " [ 5.  0.  4.  0.  5.]\n",
      " [ 1. -3.  1.  4. -3.]]\n"
     ]
    }
   ],
   "source": [
    "reward_matrix = np.zeros((n_state, n_state))\n",
    "\n",
    "for i in range(n_state):\n",
    "    reward_matrix[i] = np.random.randint(10, size=n_state) - 3\n",
    "\n",
    "print(reward_matrix)    "
   ]
  },
  {
   "cell_type": "markdown",
   "metadata": {},
   "source": [
    "Convert the r(s, s') definition of MRP to the R(s) definition of MRP, where R(s) = sum of r(s', s) for all s'."
   ]
  },
  {
   "cell_type": "code",
   "execution_count": 9,
   "metadata": {},
   "outputs": [
    {
     "name": "stdout",
     "output_type": "stream",
     "text": [
      "[ 5. 13. 22. 14.  0.]\n"
     ]
    }
   ],
   "source": [
    "reward_function = reward_matrix.sum(axis=1)\n",
    "print(reward_function)"
   ]
  },
  {
   "cell_type": "markdown",
   "metadata": {},
   "source": [
    "Then I want to explore the stationary distribution of this markov process. Generate some initial distribution probabilities p0, and see what will happen after several state transition steps. "
   ]
  },
  {
   "cell_type": "code",
   "execution_count": 17,
   "metadata": {},
   "outputs": [
    {
     "data": {
      "image/png": "[encoded data removed]",
      "text/plain": [
       "<Figure size 432x288 with 1 Axes>"
      ]
     },
     "metadata": {
      "needs_background": "light"
     },
     "output_type": "display_data"
    }
   ],
   "source": [
    "import matplotlib.pyplot as plt\n",
    "\n",
    "p0 = np.random.rand(n_state)\n",
    "p0 /= p0.sum()\n",
    "max_iter = 10\n",
    "history = np.zeros((max_iter, n_state))\n",
    "\n",
    "for i in range(max_iter):\n",
    "    p0 = p0.dot(state_transition)\n",
    "    history[i][:] = p0\n",
    "\n",
    "for i in range(n_state):\n",
    "    plt.plot(range(max_iter), history[:, i])"
   ]
  },
  {
   "cell_type": "markdown",
   "metadata": {},
   "source": [
    "Run this part for several times with different p0, result show that the probabilities always converge. Thus, this markov process has stationary distribution."
   ]
  }
 ],
 "metadata": {
  "kernelspec": {
   "display_name": "Python 3",
   "language": "python",
   "name": "python3"
  },
  "language_info": {
   "codemirror_mode": {
    "name": "ipython",
    "version": 3
   },
   "file_extension": ".py",
   "mimetype": "text/x-python",
   "name": "python",
   "nbconvert_exporter": "python",
   "pygments_lexer": "ipython3",
   "version": "3.7.0"
  }
 },
 "nbformat": 4,
 "nbformat_minor": 2
}
