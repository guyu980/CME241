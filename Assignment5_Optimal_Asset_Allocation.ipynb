{
 "cells": [
  {
   "cell_type": "markdown",
   "metadata": {},
   "source": [
    "# Merton's Portfolio"
   ]
  },
  {
   "cell_type": "markdown",
   "metadata": {},
   "source": [
    "##  1. Problem Statement\n",
    "* You will live for (deterministic) $T$ more years, and your current wealth plus present value of future income is $W_0>0$.\n",
    "* You can invest in $n$ risky assets and a riskless asset and each asset has known normal distribution of returns. You are also allowed to long or short any fractional quantitiles of assetes.\n",
    "* You are trading in continuous time $0\\leq t<T$, with no transaction costs.\n",
    "* You can consume any fractional amount of wealth at any time.\n",
    "* Your goal is to maximize the life-time aggregated utility of consumption.\n",
    "\n",
    "## 2. MDP of Merton's Problem:\n",
    "* State ${(t, W_t)}$ is the time step $t$ and the wealth $W_t$ at that time.\n",
    "* Action ${[\\pi_t, c_t]}$, where $\\pi_t$ denotes the amount spent in risky asset, $c_t$ denotes the amount on consumption.\n",
    "* Reward ${U(c_t)}$ is the utility of consumption at time $t$.\n",
    "* Return is the usual accumulated discounted reward.\n",
    "* Then we want to find policy: $(t, W_t) \\rightarrow [\\pi_t, c_t]$ that maximizes the expected retuen:\n",
    "$${E[\\int_{t}^{T}\\frac{e^{-\\rho(s-t)c_s^{1-\\gamma}}}{1-\\gamma} ds + \\frac{e^{-\\rho(T - t)\\epsilon^{\\gamma}W_T^{1-\\gamma}}}{1-\\gamma}]}$$"
   ]
  }
 ],
 "metadata": {
  "kernelspec": {
   "display_name": "Python 3",
   "language": "python",
   "name": "python3"
  },
  "language_info": {
   "codemirror_mode": {
    "name": "ipython",
    "version": 3
   },
   "file_extension": ".py",
   "mimetype": "text/x-python",
   "name": "python",
   "nbconvert_exporter": "python",
   "pygments_lexer": "ipython3",
   "version": "3.7.1"
  }
 },
 "nbformat": 4,
 "nbformat_minor": 2
}
