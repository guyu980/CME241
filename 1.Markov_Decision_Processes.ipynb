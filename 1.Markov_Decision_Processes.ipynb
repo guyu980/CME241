{
 "cells": [
  {
   "cell_type": "markdown",
   "metadata": {},
   "source": [
    "# Markov Decision Processes"
   ]
  },
  {
   "cell_type": "markdown",
   "metadata": {},
   "source": [
    "## 1. Markov Process (MP)\n",
    "A $Markov \\ Process$ (or $Markov \\ Chain$) is a memoryless randam process. It's a sequence of random stantes $S_1, S_2,...$ with the Markov property.\n",
    "So there are 2 components of MP:\n",
    "* A finite set of states which satisfy Markov property.\n",
    "* A corresponding state transition probability matrix.\n",
    "\n",
    "### 1.1 Markov Property\n",
    "A state $S_t$ is $Markov$ if and and only if:\n",
    "$$\\mathcal P(S_{t+1} \\mid S_t)=\\mathcal P(S_{t+1} \\mid S_1,...,S_t)$$\n",
    "\n",
    "### 1.2 State Transition Matrix\n",
    "For a Markov state $s$ and successor state $s^{'}$, the $state transition probability$ is defined by:\n",
    "$$\\mathcal P_{ss^{'}}=\\mathcal P(S_{t+1}=s^{'} \\mid S_t=s)$$\n",
    "State transition matrix $P$ defines transition probabilities from all state $s$ to all successor states $s^{'}$.\n",
    "* We define the row represent the current state, then the sum of each row of the matrix is 1.\n",
    "\n",
    "### 1.3 Example\n",
    "Here is a simple markov process example, where there are 5 states. Then randomly generate a state transition matrix as follow:"
   ]
  },
  {
   "cell_type": "code",
   "execution_count": 1,
   "metadata": {},
   "outputs": [
    {
     "name": "stdout",
     "output_type": "stream",
     "text": [
      "[[0.06596657 0.37114565 0.25460661 0.03925365 0.26902751]\n",
      " [0.32630854 0.28424243 0.07295823 0.02010713 0.29638366]\n",
      " [0.30706395 0.02398658 0.39968937 0.05197636 0.21728374]\n",
      " [0.09300706 0.5506007  0.18885346 0.04730653 0.12023226]\n",
      " [0.21209227 0.05590669 0.50080857 0.13733145 0.09386102]]\n"
     ]
    }
   ],
   "source": [
    "import numpy as np\n",
    "\n",
    "n_state = 5\n",
    "state_transition = np.zeros((n_state, n_state))\n",
    "\n",
    "for i in range(n_state):\n",
    "    state_transition[i] = np.random.rand(n_state)\n",
    "    state_transition[i] /= state_transition[i].sum()\n",
    "\n",
    "print(state_transition)"
   ]
  },
  {
   "cell_type": "markdown",
   "metadata": {},
   "source": [
    "## 2. Markov Reward Process (MRP)\n",
    "A $Markov \\ Reward \\ Process$ is a Markov chain with values. Remember that Markov chain has 2 components, now a MRP has 4 components:\n",
    "* A finite set of states which satisfy Markov property.\n",
    "* A corresponding state transition probability matrix.\n",
    "* A reward function.\n",
    "* A discount factor.\n",
    "\n",
    "### 2.1 Reward and Reward Function\n",
    "The $reward \\ R_t$ is a feedback from the enviroment when the state transits from $S_{t-1}$ to $S_t$. Then what is the $reward \\ function$? Here I list 2 definitions of reward function:\n",
    "* In Wikipedia, the reward function consider all situations between the current state $s$ and successor state $s^{'}$. So this reward function has the same shape as the state transition matrix:\n",
    "$$\\mathcal R_{ss^{'}}=R(S_t=s,S_{t+1}=s^{'})$$\n",
    "* In David Silver's lecture, the reward function is defined as the conditional expectation of the random variable $R_{t+1}$ at state $S_t=s$:\n",
    "$$\\mathcal R_{s}=E[R_{t+1} \\mid S_t=s]$$\n",
    "\n",
    "Consider the data structure of these 2 types of definition. The reward function of Wiki MRP is a matrix of size $n\\_state*n\\_state$. The reward function of DS MRP is a vector of size $n\\_state$, and can be converted by calculate the dot product of each row in state transition matrix and the corresponding row in reward matrix from Wiki MRP:\n",
    "$$\\mathcal R_{s}=\\sum_{s^{'}}\\mathcal P_{ss^{'}}\\times \\mathcal R_{ss^{'}}$$\n",
    "\n",
    "\n",
    "### 2.2 Return and Discount Factor\n",
    "The $return \\ G_t$ is the total discounted reward from time-step $t$:\n",
    "$$G_t=R_{t+1}+\\gamma R_{t+2}+...=\\sum_{k=0}^{\\infty}\\gamma^k R_{t+k+1}$$\n",
    "* The discount factor $\\gamma \\in [0,1]$ is the present value of future rewards in one step.\n",
    "* \n",
    "\n",
    "### 2.3 Example\n",
    "Consider the Wiki's definition of MRP, generate a reward matrix which has the same rows and columns as state transition matrix. Then convert it to the DS's definition of MRRP."
   ]
  },
  {
   "cell_type": "code",
   "execution_count": 15,
   "metadata": {},
   "outputs": [
    {
     "name": "stdout",
     "output_type": "stream",
     "text": [
      "R(s, s'):\n",
      " [[-1.  4. -2.  6.  0.]\n",
      " [ 5.  4.  2.  0. -2.]\n",
      " [-3.  3. -2.  4.  6.]\n",
      " [ 0. -2.  2.  1. -2.]\n",
      " [-3.  3.  2.  0.  3.]] \n",
      "\n",
      "R(s):\n",
      " [ 1.03242694  1.77325943 -0.63372715 -0.12468029  1.04990283]\n"
     ]
    }
   ],
   "source": [
    "reward_matrix = np.zeros((n_state, n_state))\n",
    "reward_fuction = np.zeros(n_state)\n",
    "\n",
    "for i in range(n_state):\n",
    "    reward_matrix[i] = np.random.randint(10, size=n_state) - 3\n",
    "\n",
    "for i in range(n_state):\n",
    "    reward_function[i] = np.dot(state_transition[i, :], reward_matrix[i, :])\n",
    "\n",
    "print('R(s, s\\'):\\n', reward_matrix, '\\n')\n",
    "print('R(s):\\n', reward_function)"
   ]
  },
  {
   "cell_type": "markdown",
   "metadata": {},
   "source": [
    "## 3. Some Mathematical Properties\n",
    "Then I want to explore the stationary distribution of this markov process. Generate some initial distribution probabilities p0, and run this part for several times with different p0. The result shows that the probabilities always converge. Thus, this markov process has stationary distribution."
   ]
  },
  {
   "cell_type": "code",
   "execution_count": 23,
   "metadata": {},
   "outputs": [
    {
     "data": {
      "image/png": "[encoded data removed]",
      "text/plain": [
       "<Figure size 432x288 with 1 Axes>"
      ]
     },
     "metadata": {
      "needs_background": "light"
     },
     "output_type": "display_data"
    }
   ],
   "source": [
    "import matplotlib.pyplot as plt\n",
    "\n",
    "p0 = np.random.rand(n_state)\n",
    "p0 /= p0.sum()\n",
    "max_iter = 10\n",
    "history = np.zeros((max_iter, n_state))\n",
    "\n",
    "for i in range(max_iter):\n",
    "    p0 = p0.dot(state_transition)\n",
    "    history[i][:] = p0\n",
    "\n",
    "for i in range(n_state):\n",
    "    plt.plot(range(max_iter), history[:, i])"
   ]
  }
 ],
 "metadata": {
  "kernelspec": {
   "display_name": "Python 3",
   "language": "python",
   "name": "python3"
  },
  "language_info": {
   "codemirror_mode": {
    "name": "ipython",
    "version": 3
   },
   "file_extension": ".py",
   "mimetype": "text/x-python",
   "name": "python",
   "nbconvert_exporter": "python",
   "pygments_lexer": "ipython3",
   "version": "3.7.0"
  }
 },
 "nbformat": 4,
 "nbformat_minor": 2
}
