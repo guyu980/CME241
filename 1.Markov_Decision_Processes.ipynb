{
 "cells": [
  {
   "cell_type": "markdown",
   "metadata": {},
   "source": [
    "# Markov Decision Processes"
   ]
  },
  {
   "cell_type": "markdown",
   "metadata": {},
   "source": [
    "## 1. Markov Process (MP)\n",
    "A $Markov \\ Process$ (or $Markov \\ Chain$) is a memoryless randam process. It's a sequence of random stantes $S_1, S_2,...$ with the Markov property.\n",
    "So there are 2 components of MP:\n",
    "* A finite set of states which satisfy Markov property.\n",
    "* A corresponding state transition probability matrix.\n",
    "\n",
    "### 1.1 Markov Property\n",
    "A state $S_t$ is $Markov$ if and and only if:\n",
    "$$\\mathcal P(S_{t+1} \\mid S_t)=\\mathcal P(S_{t+1} \\mid S_1,...,S_t)$$\n",
    "\n",
    "### 1.2 State Transition Matrix\n",
    "For a Markov state $s$ and successor state $s^{'}$, the $state transition probability$ is defined by:\n",
    "$$\\mathcal P_{ss^{'}}=\\mathcal P(S_{t+1}=s^{'} \\mid S_t=s)$$\n",
    "State transition matrix $P$ defines transition probabilities from all state $s$ to all successor states $s^{'}$.\n",
    "* We define the row represent the current state, then the sum of each row of the matrix is 1.\n",
    "\n",
    "### 1.3 Example\n",
    "Here is a simple markov process example, where there are 5 states. Then randomly generate a state transition matrix as follow:"
   ]
  },
  {
   "cell_type": "code",
   "execution_count": 1,
   "metadata": {},
   "outputs": [
    {
     "name": "stdout",
     "output_type": "stream",
     "text": [
      "[[0.23520112 0.09186801 0.26764791 0.111933   0.29334996]\n",
      " [0.08028889 0.32275869 0.28499822 0.16513109 0.14682311]\n",
      " [0.2995472  0.17293787 0.38937749 0.0899736  0.04816384]\n",
      " [0.26536179 0.14306981 0.28606174 0.23911311 0.06639356]\n",
      " [0.23214912 0.13326566 0.29235481 0.16500066 0.17722975]]\n"
     ]
    }
   ],
   "source": [
    "import numpy as np\n",
    "\n",
    "n_state = 5\n",
    "state_transition = np.zeros((n_state, n_state))\n",
    "\n",
    "for i in range(n_state):\n",
    "    state_transition[i] = np.random.rand(n_state)\n",
    "    state_transition[i] /= state_transition[i].sum()\n",
    "\n",
    "print(state_transition)"
   ]
  },
  {
   "cell_type": "markdown",
   "metadata": {},
   "source": [
    "## 2. Markov Reward Process (MRP)\n",
    "A $Markov \\ Reward \\ Process$ is a Markov chain with values. Remember that Markov chain has 2 components, now a MRP has 4 components:\n",
    "* A finite set of states which satisfy Markov property.\n",
    "* A corresponding state transition probability matrix.\n",
    "* A reward function.\n",
    "* A discount factor.\n",
    "\n",
    "### 2.1 Reward and Reward Function\n",
    "The $reward \\ R_t$ is a feedback from the enviroment when the state transits from $S_{t-1}$ to $S_t$. Then what is the $reward \\ function$? Here I list 2 definitions of reward function:\n",
    "* In Wikipedia, the reward function consider all situations between the current state $s$ and successor state $s^{'}$. So this reward function has the same shape as the state transition matrix:\n",
    "$$\\mathcal R_{ss^{'}}=R(S_t=s,S_{t+1}=s^{'})$$\n",
    "* In David Silver's lecture, the reward function is defined as the conditional expectation of the random variable $R_{t+1}$ at state $S_t=s$:\n",
    "$$\\mathcal R_{s}=E[R_{t+1} \\mid S_t=s]$$\n",
    "\n",
    "Consider the data structure of these 2 types of definition. The reward function of Wiki MRP is a matrix of size $n\\_state*n\\_state$. The reward function of DS MRP is a vector of size $n\\_state$, and can be converted by calculate the dot product of each row in state transition matrix and the corresponding row in reward matrix from Wiki MRP:\n",
    "$$\\mathcal R_{s}=\\sum_{s^{'}}\\mathcal P_{ss^{'}}\\times \\mathcal R_{ss^{'}}$$\n",
    "\n",
    "\n",
    "### 2.2 Return and Discount Factor\n",
    "The $return \\ G_t$ is the total discounted reward from time-step $t$:\n",
    "$$G_t=R_{t+1}+\\gamma R_{t+2}+...=\\sum_{k=0}^{\\infty}\\gamma^k R_{t+k+1}$$\n",
    "* The discount factor $\\gamma \\in [0,1]$ is the present value of future rewards in one step.\n",
    "* \n",
    "\n",
    "### 2.3 Example\n",
    "Consider the Wiki's definition of MRP, generate a reward matrix which has the same rows and columns as state transition matrix. Then convert it to the DS's definition of MRRP."
   ]
  },
  {
   "cell_type": "code",
   "execution_count": 2,
   "metadata": {},
   "outputs": [
    {
     "name": "stdout",
     "output_type": "stream",
     "text": [
      "R(s, s'):\n",
      " [[ 1. -1.  4.  2. -1.]\n",
      " [-3.  5.  6.  3. -3.]\n",
      " [-2.  6.  2.  3.  1.]\n",
      " [-3.  3.  4.  2.  6.]\n",
      " [-2.  2. -1.  3.  3.]] \n",
      "\n",
      "R(s):\n",
      " [1.1444408  3.13784007 1.53537247 1.65395858 0.5365695 ]\n"
     ]
    }
   ],
   "source": [
    "reward_matrix = np.zeros((n_state, n_state))\n",
    "reward_function = np.zeros(n_state)\n",
    "\n",
    "for i in range(n_state):\n",
    "    reward_matrix[i] = np.random.randint(10, size=n_state) - 3\n",
    "\n",
    "for i in range(n_state):\n",
    "    reward_function[i] = np.dot(state_transition[i, :], reward_matrix[i, :])\n",
    "\n",
    "print('R(s, s\\'):\\n', reward_matrix, '\\n')\n",
    "print('R(s):\\n', reward_function)"
   ]
  },
  {
   "cell_type": "markdown",
   "metadata": {},
   "source": [
    "## 3. Some Mathematical Properties\n",
    "Then I want to explore the stationary distribution of this markov process. Generate some initial distribution probabilities p0, and run this part for several times with different p0. The result shows that the probabilities always converge. Thus, this markov process has stationary distribution."
   ]
  },
  {
   "cell_type": "code",
   "execution_count": 5,
   "metadata": {},
   "outputs": [
    {
     "data": {
      "image/png": "[encoded data removed]",
      "text/plain": [
       "<Figure size 432x288 with 1 Axes>"
      ]
     },
     "metadata": {
      "needs_background": "light"
     },
     "output_type": "display_data"
    }
   ],
   "source": [
    "import matplotlib.pyplot as plt\n",
    "\n",
    "p0 = np.random.rand(n_state)\n",
    "p0 /= p0.sum()\n",
    "max_iter = 10\n",
    "history = np.zeros((max_iter, n_state))\n",
    "\n",
    "for i in range(max_iter):\n",
    "    p0 = p0.dot(state_transition)\n",
    "    history[i][:] = p0\n",
    "\n",
    "for i in range(n_state):\n",
    "    plt.plot(range(max_iter), history[:, i])"
   ]
  }
 ],
 "metadata": {
  "kernelspec": {
   "display_name": "Python 3",
   "language": "python",
   "name": "python3"
  },
  "language_info": {
   "codemirror_mode": {
    "name": "ipython",
    "version": 3
   },
   "file_extension": ".py",
   "mimetype": "text/x-python",
   "name": "python",
   "nbconvert_exporter": "python",
   "pygments_lexer": "ipython3",
   "version": "3.7.0"
  }
 },
 "nbformat": 4,
 "nbformat_minor": 2
}
