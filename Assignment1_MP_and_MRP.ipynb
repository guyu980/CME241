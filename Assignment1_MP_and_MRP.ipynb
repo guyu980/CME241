{
 "cells": [
  {
   "cell_type": "markdown",
   "metadata": {},
   "source": [
    "# Markov Decision Processes"
   ]
  },
  {
   "cell_type": "markdown",
   "metadata": {},
   "source": [
    "## 1. Markov Process (MP)\n",
    "A $Markov \\ Process$ (or $Markov \\ Chain$) is a memoryless randam process. It's a sequence of random stantes $S_1, S_2,...$ with the Markov property.\n",
    "So there are 2 components of MP:\n",
    "* A finite set of states which satisfy Markov property.\n",
    "* A corresponding state transition probability matrix.\n",
    "\n",
    "### 1.1 Markov Property\n",
    "A state $S_t$ is $Markov$ if and and only if:\n",
    "$$P(S_{t+1} \\mid S_t)=P(S_{t+1} \\mid S_1,...,S_t)$$\n",
    "\n",
    "### 1.2 State Transition Matrix\n",
    "For a Markov state $s$ and successor state $s^{'}$, the $state \\ transition \\ probability$ is defined by:\n",
    "$$\\mathcal P_{ss^{'}}=P(S_{t+1}=s^{'} \\mid S_t=s)$$\n",
    "State transition matrix $P$ defines transition probabilities from all state $s$ to all successor states $s^{'}$.\n",
    "* We define the row represent the current state, then the sum of each row of the matrix is 1.\n",
    "\n",
    "### 1.3 Class Design of MP"
   ]
  },
  {
   "cell_type": "code",
   "execution_count": 1,
   "metadata": {},
   "outputs": [],
   "source": [
    "import numpy as np\n",
    "import matplotlib.pyplot as plt\n",
    "from typing import Mapping\n",
    "from utils.generic_typevars import S\n",
    "from utils.utils import is_equal\n",
    "\n",
    "class MP:\n",
    "    def __init__(self, transitions: Mapping[S, Mapping[S, float]]):\n",
    "        if self.check_mp(transitions):\n",
    "            self.transitions = transitions\n",
    "            self.states = list(self.transitions.keys())\n",
    "            self.transition_matrix = self.generate_matrix(self.transitions)\n",
    "        else:\n",
    "            raise ValueError\n",
    "    \n",
    "    def check_mp(self, transitions) -> bool:\n",
    "        states = set(transitions.keys())\n",
    "        # Check the successor states is the subset of current states\n",
    "        b1 = set().union(*list(transitions.values())).issubset(states)\n",
    "        # Check the probabilities are positive\n",
    "        b2 = all(all(p >= 0 for p in transitions[state].values()) for state in transitions)\n",
    "        # Check the sum of probabilities for each state equals to 1\n",
    "        b3 = all(is_equal(sum(transitions[state].values()), 1.) for state in transitions)        \n",
    "        return b1 and b2 and b3\n",
    "    \n",
    "    def generate_matrix(self, dict_obj) -> np.array:\n",
    "        matrix = np.zeros((len(self.states), len(self.states)))\n",
    "        \n",
    "        for i in range(len(self.states)):\n",
    "            for j in range(len(self.states)):\n",
    "                if self.states[j] in dict_obj[self.states[i]]:\n",
    "                    matrix[i, j] = dict_obj[self.states[i]][self.states[j]]\n",
    "        return matrix\n",
    "    \n",
    "    def simulation(self, iters: int) -> None:\n",
    "        p0 = np.random.rand(len(self.states))\n",
    "        p0 /= sum(p0)\n",
    "        simulation = np.zeros((iters, len(self.states)))\n",
    "        \n",
    "        for i in range(iters):\n",
    "            p0 = p0.dot(self.transition_matrix)\n",
    "            simulation[i, :] = p0\n",
    "        \n",
    "        for i in range(len(self.states)):\n",
    "            plt.plot(range(iters), simulation[:, i])"
   ]
  },
  {
   "cell_type": "code",
   "execution_count": 2,
   "metadata": {},
   "outputs": [
    {
     "name": "stdout",
     "output_type": "stream",
     "text": [
      "States: [1, 2, 3, 4, 5] \n",
      "\n",
      "Transition Matrix:\n",
      " [[0.2  0.3  0.1  0.1  0.3 ]\n",
      " [0.15 0.35 0.25 0.   0.25]\n",
      " [0.55 0.12 0.   0.33 0.  ]\n",
      " [0.2  0.5  0.2  0.   0.1 ]\n",
      " [0.   0.   0.   0.   1.  ]]\n"
     ]
    }
   ],
   "source": [
    "transitions = {\n",
    "    1: {1: 0.2, 2: 0.3, 3: 0.1, 4: 0.1, 5: 0.3},\n",
    "    2: {1: 0.15, 2: 0.35, 3: 0.25, 5: 0.25},\n",
    "    3: {1: 0.55, 2: 0.12, 4: 0.33},\n",
    "    4: {1: 0.2, 2: 0.5, 3: 0.2, 5: 0.1},\n",
    "    5: {5: 1}\n",
    "}\n",
    "    \n",
    "mp = MP(transitions)\n",
    "print('States:', mp.states, '\\n')\n",
    "print('Transition Matrix:\\n', mp.transition_matrix)"
   ]
  },
  {
   "cell_type": "markdown",
   "metadata": {},
   "source": [
    "### 1.4 Stationary Distribution\n",
    "Then I want to explore the stationary distribution of this markov process by simulation. Generate some initial distribution probabilities p0, and do simulations for several iterations. The result shows that the probabilities always converge. Thus, this markov process has stationary distribution."
   ]
  },
  {
   "cell_type": "code",
   "execution_count": 3,
   "metadata": {},
   "outputs": [
    {
     "data": {
      "image/png": "[encoded data removed]",
      "text/plain": [
       "<Figure size 432x288 with 1 Axes>"
      ]
     },
     "metadata": {
      "needs_background": "light"
     },
     "output_type": "display_data"
    }
   ],
   "source": [
    "mp.simulation(40)"
   ]
  },
  {
   "cell_type": "code",
   "execution_count": 4,
   "metadata": {},
   "outputs": [
    {
     "data": {
      "image/png": "[encoded data removed]",
      "text/plain": [
       "<Figure size 432x288 with 1 Axes>"
      ]
     },
     "metadata": {
      "needs_background": "light"
     },
     "output_type": "display_data"
    }
   ],
   "source": [
    "mp.simulation(40)"
   ]
  },
  {
   "cell_type": "markdown",
   "metadata": {},
   "source": [
    "## 2. Markov Reward Process (MRP)\n",
    "A $Markov \\ Reward \\ Process$ is a Markov chain with values. Remember that Markov chain has 2 components, now a MRP has 4 components:\n",
    "* A finite set of states which satisfy Markov property.\n",
    "* A corresponding state transition probability matrix.\n",
    "* A reward function.\n",
    "* A discount factor.\n",
    "\n",
    "### 2.1 Reward and Reward Function\n",
    "The $reward \\ R_t$ is a feedback from the enviroment when the state transits from $S_{t-1}$ to $S_t$. Then what is the $reward \\ function$? Here I list 2 definitions of reward function:\n",
    "* In Wikipedia, the reward function consider all situations between the current state $s$ and successor state $s^{'}$. So this reward function has the same shape as the state transition matrix:\n",
    "$$\\mathcal R_{ss^{'}}=R(S_t=s,S_{t+1}=s^{'})$$\n",
    "* In David Silver's lecture, the reward function is defined as the conditional expectation of the random variable $R_{t+1}$ at state $S_t=s$:\n",
    "$$\\mathcal R_{s}=E[R_{t+1} \\mid S_t=s]$$\n",
    "\n",
    "Consider the data structure of these 2 types of definition. The reward function of Wiki MRP is a matrix of size $n\\_state*n\\_state$. The reward function of DS MRP is a vector of size $n\\_state$, and can be converted by calculate the dot product of each row in state transition matrix and the corresponding row in reward matrix from Wiki MRP:\n",
    "$$\\mathcal R_{s}=\\sum_{s^{'}}\\mathcal P_{ss^{'}}\\times \\mathcal R_{ss^{'}}$$\n",
    "\n",
    "\n",
    "### 2.2 Return and Discount Factor\n",
    "The $return \\ G_t$ is the total discounted reward from time-step $t$:\n",
    "$$G_t=R_{t+1}+\\gamma R_{t+2}+...=\\sum_{k=0}^{\\infty}\\gamma^k R_{t+k+1}$$\n",
    "* The discount factor $\\gamma \\in [0,1]$ is the present value of future rewards in one step.\n",
    "\n",
    "### 2.3 Class Design of MRP\n",
    "Consider the Wiki's definition of MRP, generate a reward matrix which has the same rows and columns as state transition matrix. Then convert it to the DS's definition of MRP."
   ]
  },
  {
   "cell_type": "code",
   "execution_count": 5,
   "metadata": {},
   "outputs": [],
   "source": [
    "class MRP(MP):\n",
    "    def __init__(self, transitions: Mapping[S, Mapping[S, float]], \\\n",
    "                 rewards: Mapping[S, Mapping[S, float]], gamma: float):\n",
    "        if self.check_mp(transitions):\n",
    "            self.transitions = transitions\n",
    "            self.states = list(self.transitions.keys())\n",
    "            self.rewards = rewards\n",
    "            self.transition_matrix = self.generate_matrix(self.transitions)\n",
    "            self.reward_func = self.generate_matrix(self.rewards)\n",
    "        else:\n",
    "            raise ValueError\n",
    "    \n",
    "    def convert_reward_func(self):\n",
    "        reward_func_new = np.zeros(len(self.states))\n",
    "        \n",
    "        for i in range(len(self.states)):\n",
    "            reward_func_new[i] = np.dot(self.transition_matrix[i, :], self.reward_func[i, :])\n",
    "        return reward_func_new"
   ]
  },
  {
   "cell_type": "code",
   "execution_count": 6,
   "metadata": {},
   "outputs": [
    {
     "name": "stdout",
     "output_type": "stream",
     "text": [
      "Reward Function (Wiki):\n",
      " [[ 3.  8. 10.  5.  3.]\n",
      " [ 2.  7.  9.  0.  2.]\n",
      " [ 0.  1.  0.  3.  0.]\n",
      " [ 0.  4.  5.  0.  2.]\n",
      " [ 0.  0.  0.  0.  1.]] \n",
      "\n",
      "Reward Function (DS):\n",
      " [5.4  5.5  1.11 3.2  1.  ] \n",
      "\n"
     ]
    }
   ],
   "source": [
    "rewards = {\n",
    "    1: {1: 3, 2: 8, 3: 10, 4: 5, 5: 3},\n",
    "    2: {1: 2, 2: 7, 3: 9, 5: 2},\n",
    "    3: {1: 0, 2: 1, 4: 3},\n",
    "    4: {1: 0, 2: 4, 3: 5, 5: 2},\n",
    "    5: {5: 1}\n",
    "}\n",
    "mrp = MRP(transitions, rewards, 1.)\n",
    "print('Reward Function (Wiki):\\n', mrp.reward_func, '\\n')\n",
    "print('Reward Function (DS):\\n', mrp.convert_reward_func(), '\\n')"
   ]
  }
 ],
 "metadata": {
  "kernelspec": {
   "display_name": "Python 3",
   "language": "python",
   "name": "python3"
  },
  "language_info": {
   "codemirror_mode": {
    "name": "ipython",
    "version": 3
   },
   "file_extension": ".py",
   "mimetype": "text/x-python",
   "name": "python",
   "nbconvert_exporter": "python",
   "pygments_lexer": "ipython3",
   "version": "3.7.0"
  }
 },
 "nbformat": 4,
 "nbformat_minor": 2
}
